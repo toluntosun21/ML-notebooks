{
  "nbformat": 4,
  "nbformat_minor": 0,
  "metadata": {
    "colab": {
      "name": "Untitled8.ipynb",
      "provenance": [],
      "collapsed_sections": [],
      "include_colab_link": true
    },
    "kernelspec": {
      "name": "python3",
      "display_name": "Python 3"
    }
  },
  "cells": [
    {
      "cell_type": "markdown",
      "metadata": {
        "id": "view-in-github",
        "colab_type": "text"
      },
      "source": [
        "<a href=\"https://colab.research.google.com/github/toluntosun21/ML-notebooks/blob/master/LetterClassification-SVM/SVM.ipynb\" target=\"_parent\"><img src=\"https://colab.research.google.com/assets/colab-badge.svg\" alt=\"Open In Colab\"/></a>"
      ]
    },
    {
      "cell_type": "markdown",
      "metadata": {
        "id": "eO1NiacYRRdv",
        "colab_type": "text"
      },
      "source": [
        "**SVM**"
      ]
    },
    {
      "cell_type": "markdown",
      "metadata": {
        "id": "wRDmBsgKTW17",
        "colab_type": "text"
      },
      "source": [
        "In this example, I will separate handwritten 'B' characters from 'P' characters in UCI letter recognition dataset,using Support Vector Machines (SVM)."
      ]
    },
    {
      "cell_type": "code",
      "metadata": {
        "id": "COWr-dA8IBa6",
        "colab_type": "code",
        "outputId": "fea9445c-3172-49be-d4a1-9776355d3aa5",
        "colab": {
          "base_uri": "https://localhost:8080/",
          "height": 369
        }
      },
      "source": [
        "#upload the data first\n",
        "from google.colab import files\n",
        "uploaded = files.upload()"
      ],
      "execution_count": 0,
      "outputs": [
        {
          "output_type": "display_data",
          "data": {
            "text/html": [
              "\n",
              "     <input type=\"file\" id=\"files-68bfa02e-eb12-49eb-848f-db116263f72c\" name=\"files[]\" multiple disabled />\n",
              "     <output id=\"result-68bfa02e-eb12-49eb-848f-db116263f72c\">\n",
              "      Upload widget is only available when the cell has been executed in the\n",
              "      current browser session. Please rerun this cell to enable.\n",
              "      </output>\n",
              "      <script src=\"/nbextensions/google.colab/files.js\"></script> "
            ],
            "text/plain": [
              "<IPython.core.display.HTML object>"
            ]
          },
          "metadata": {
            "tags": []
          }
        },
        {
          "output_type": "error",
          "ename": "MessageError",
          "evalue": "ignored",
          "traceback": [
            "\u001b[0;31m---------------------------------------------------------------------------\u001b[0m",
            "\u001b[0;31mMessageError\u001b[0m                              Traceback (most recent call last)",
            "\u001b[0;32m<ipython-input-46-21dc3c638f66>\u001b[0m in \u001b[0;36m<module>\u001b[0;34m()\u001b[0m\n\u001b[1;32m      1\u001b[0m \u001b[0;32mfrom\u001b[0m \u001b[0mgoogle\u001b[0m\u001b[0;34m.\u001b[0m\u001b[0mcolab\u001b[0m \u001b[0;32mimport\u001b[0m \u001b[0mfiles\u001b[0m\u001b[0;34m\u001b[0m\u001b[0;34m\u001b[0m\u001b[0m\n\u001b[0;32m----> 2\u001b[0;31m \u001b[0muploaded\u001b[0m \u001b[0;34m=\u001b[0m \u001b[0mfiles\u001b[0m\u001b[0;34m.\u001b[0m\u001b[0mupload\u001b[0m\u001b[0;34m(\u001b[0m\u001b[0;34m)\u001b[0m\u001b[0;34m\u001b[0m\u001b[0;34m\u001b[0m\u001b[0m\n\u001b[0m",
            "\u001b[0;32m/usr/local/lib/python3.6/dist-packages/google/colab/files.py\u001b[0m in \u001b[0;36mupload\u001b[0;34m()\u001b[0m\n\u001b[1;32m     62\u001b[0m   result = _output.eval_js(\n\u001b[1;32m     63\u001b[0m       'google.colab._files._uploadFiles(\"{input_id}\", \"{output_id}\")'.format(\n\u001b[0;32m---> 64\u001b[0;31m           input_id=input_id, output_id=output_id))\n\u001b[0m\u001b[1;32m     65\u001b[0m   \u001b[0mfiles\u001b[0m \u001b[0;34m=\u001b[0m \u001b[0m_collections\u001b[0m\u001b[0;34m.\u001b[0m\u001b[0mdefaultdict\u001b[0m\u001b[0;34m(\u001b[0m\u001b[0m_six\u001b[0m\u001b[0;34m.\u001b[0m\u001b[0mbinary_type\u001b[0m\u001b[0;34m)\u001b[0m\u001b[0;34m\u001b[0m\u001b[0;34m\u001b[0m\u001b[0m\n\u001b[1;32m     66\u001b[0m   \u001b[0;31m# Mapping from original filename to filename as saved locally.\u001b[0m\u001b[0;34m\u001b[0m\u001b[0;34m\u001b[0m\u001b[0;34m\u001b[0m\u001b[0m\n",
            "\u001b[0;32m/usr/local/lib/python3.6/dist-packages/google/colab/output/_js.py\u001b[0m in \u001b[0;36meval_js\u001b[0;34m(script, ignore_result)\u001b[0m\n\u001b[1;32m     37\u001b[0m   \u001b[0;32mif\u001b[0m \u001b[0mignore_result\u001b[0m\u001b[0;34m:\u001b[0m\u001b[0;34m\u001b[0m\u001b[0;34m\u001b[0m\u001b[0m\n\u001b[1;32m     38\u001b[0m     \u001b[0;32mreturn\u001b[0m\u001b[0;34m\u001b[0m\u001b[0;34m\u001b[0m\u001b[0m\n\u001b[0;32m---> 39\u001b[0;31m   \u001b[0;32mreturn\u001b[0m \u001b[0m_message\u001b[0m\u001b[0;34m.\u001b[0m\u001b[0mread_reply_from_input\u001b[0m\u001b[0;34m(\u001b[0m\u001b[0mrequest_id\u001b[0m\u001b[0;34m)\u001b[0m\u001b[0;34m\u001b[0m\u001b[0;34m\u001b[0m\u001b[0m\n\u001b[0m\u001b[1;32m     40\u001b[0m \u001b[0;34m\u001b[0m\u001b[0m\n\u001b[1;32m     41\u001b[0m \u001b[0;34m\u001b[0m\u001b[0m\n",
            "\u001b[0;32m/usr/local/lib/python3.6/dist-packages/google/colab/_message.py\u001b[0m in \u001b[0;36mread_reply_from_input\u001b[0;34m(message_id, timeout_sec)\u001b[0m\n\u001b[1;32m    104\u001b[0m         reply.get('colab_msg_id') == message_id):\n\u001b[1;32m    105\u001b[0m       \u001b[0;32mif\u001b[0m \u001b[0;34m'error'\u001b[0m \u001b[0;32min\u001b[0m \u001b[0mreply\u001b[0m\u001b[0;34m:\u001b[0m\u001b[0;34m\u001b[0m\u001b[0;34m\u001b[0m\u001b[0m\n\u001b[0;32m--> 106\u001b[0;31m         \u001b[0;32mraise\u001b[0m \u001b[0mMessageError\u001b[0m\u001b[0;34m(\u001b[0m\u001b[0mreply\u001b[0m\u001b[0;34m[\u001b[0m\u001b[0;34m'error'\u001b[0m\u001b[0;34m]\u001b[0m\u001b[0;34m)\u001b[0m\u001b[0;34m\u001b[0m\u001b[0;34m\u001b[0m\u001b[0m\n\u001b[0m\u001b[1;32m    107\u001b[0m       \u001b[0;32mreturn\u001b[0m \u001b[0mreply\u001b[0m\u001b[0;34m.\u001b[0m\u001b[0mget\u001b[0m\u001b[0;34m(\u001b[0m\u001b[0;34m'data'\u001b[0m\u001b[0;34m,\u001b[0m \u001b[0;32mNone\u001b[0m\u001b[0;34m)\u001b[0m\u001b[0;34m\u001b[0m\u001b[0;34m\u001b[0m\u001b[0m\n\u001b[1;32m    108\u001b[0m \u001b[0;34m\u001b[0m\u001b[0m\n",
            "\u001b[0;31mMessageError\u001b[0m: TypeError: google.colab._files is undefined"
          ]
        }
      ]
    },
    {
      "cell_type": "code",
      "metadata": {
        "id": "M_Wtfa6rR8Z1",
        "colab_type": "code",
        "outputId": "07c1e978-3a8f-47ce-e9ea-77adb1d3a058",
        "colab": {
          "base_uri": "https://localhost:8080/",
          "height": 803
        }
      },
      "source": [
        "#import pandas to read the input as csv\n",
        "import pandas as pd\n",
        "\n",
        "Bs = pd.read_csv('Bs.csv', header=None)\n",
        "Ps = pd.read_csv('Ps.csv', header=None)\n",
        "#add the classes\n",
        "Bs.insert(16,'y',0) #0 denotes B\n",
        "Ps.insert(16,'y',1) #1 denotes P\n",
        "print(Bs)\n",
        "print(Ps)\n",
        "chars=pd.concat([Bs,Ps])\n",
        "print(chars)\n",
        "numRows=len(chars)\n",
        "numCols=len(chars.columns)\n",
        "numFeatures=(numCols-1)\n",
        "print(numRows)\n",
        "print(numCols)"
      ],
      "execution_count": 0,
      "outputs": [
        {
          "output_type": "stream",
          "text": [
            "     0   1  2  3   4   5  6  7  8   9  10  11  12  13  14  15  y\n",
            "0    4   2  5  4   4   8  7  6  6   7   6   6   2   8   7  10  0\n",
            "1    5   9  7  7  10   9  8  4  4   6   8   6   6  11   8   7  0\n",
            "2    3   3  3  4   3   7  7  5  5   7   6   6   5   8   5  10  0\n",
            "3    5   9  7  7   7   8  8  3  6  10   5   6   3   7   6   8  0\n",
            "4    4   2  5  4   4   7  7  5  6   7   6   6   2   8   7  10  0\n",
            "..  ..  .. .. ..  ..  .. .. .. ..  ..  ..  ..  ..  ..  ..  .. ..\n",
            "761  6  10  8  8   7   7  7  6  6   9   7   6   3   8   8   9  0\n",
            "762  2   5  4  3   3   8  8  3  5  10   5   6   3   7   5   9  0\n",
            "763  6   9  8  6   7  10  6  3  6  10   3   7   4   7   5  12  0\n",
            "764  4   4  5  7   4   6  6  9  7   6   6   7   2   8   9  10  0\n",
            "765  4   8  6  6   5   7  8  6  6  10   6   6   3   8   7   8  0\n",
            "\n",
            "[766 rows x 17 columns]\n",
            "     0   1   2  3  4  5   6  7  8   9  10  11  12  13  14  15  y\n",
            "0    3   6   4  4  2  4  14  8  1  11   6   3   0  10   4   8  1\n",
            "1    8  14   7  8  4  5  10  6  3  12   5   4   4  10   4   8  1\n",
            "2    6  10   8  8  7  8   5  7  5   7   6   6   3   9   8   9  1\n",
            "3    7  11  10  8  6  6  11  3  6  13   6   3   0  10   3   8  1\n",
            "4    6  10   6  6  4  7  10  5  2  11   5   4   4  11   5   7  1\n",
            "..  ..  ..  .. .. .. ..  .. .. ..  ..  ..  ..  ..  ..  ..  .. ..\n",
            "798  2   4   3  3  2  5  10  4  4  10   8   5   0  10   3   7  1\n",
            "799  4   6   5  4  4  8   5  6  5   7   6   7   2   9   7   9  1\n",
            "800  4   9   6  6  4  7   9  3  4  12   5   4   2   9   3   8  1\n",
            "801  2   5   3  7  5  8   6  5  1   7   6   7   6   8   5   9  1\n",
            "802  2   1   3  2  1  4  10  3  5  10   8   5   0   9   3   7  1\n",
            "\n",
            "[803 rows x 17 columns]\n",
            "     0  1  2  3   4  5   6  7  8   9  10  11  12  13  14  15  y\n",
            "0    4  2  5  4   4  8   7  6  6   7   6   6   2   8   7  10  0\n",
            "1    5  9  7  7  10  9   8  4  4   6   8   6   6  11   8   7  0\n",
            "2    3  3  3  4   3  7   7  5  5   7   6   6   5   8   5  10  0\n",
            "3    5  9  7  7   7  8   8  3  6  10   5   6   3   7   6   8  0\n",
            "4    4  2  5  4   4  7   7  5  6   7   6   6   2   8   7  10  0\n",
            "..  .. .. .. ..  .. ..  .. .. ..  ..  ..  ..  ..  ..  ..  .. ..\n",
            "798  2  4  3  3   2  5  10  4  4  10   8   5   0  10   3   7  1\n",
            "799  4  6  5  4   4  8   5  6  5   7   6   7   2   9   7   9  1\n",
            "800  4  9  6  6   4  7   9  3  4  12   5   4   2   9   3   8  1\n",
            "801  2  5  3  7   5  8   6  5  1   7   6   7   6   8   5   9  1\n",
            "802  2  1  3  2   1  4  10  3  5  10   8   5   0   9   3   7  1\n",
            "\n",
            "[1569 rows x 17 columns]\n",
            "1569\n",
            "17\n"
          ],
          "name": "stdout"
        }
      ]
    },
    {
      "cell_type": "code",
      "metadata": {
        "id": "hRS_5shEUHRT",
        "colab_type": "code",
        "outputId": "b69a4415-4421-489a-f22e-bdd4cdf4a076",
        "colab": {
          "base_uri": "https://localhost:8080/",
          "height": 517
        }
      },
      "source": [
        "#random split for test, valid, train sets\n",
        "def shuffle(input,frac):\n",
        "  shuffle=input.sample(frac=1).reset_index(drop=True)\n",
        "  datalen=len(input)\n",
        "  firstSplitEnd=int(datalen*frac)\n",
        "  firstSet=shuffle[0:trainend]\n",
        "  secondSet=shuffle[firstSplitEnd:datalen]\n",
        "  return firstSet, secondSet\n",
        "\n",
        "trainValid, test = shuffle(chars, 0.8) #0.2 of data is reserved for test set\n",
        "print(trainValid)\n",
        "print(test)"
      ],
      "execution_count": 0,
      "outputs": [
        {
          "output_type": "stream",
          "text": [
            "     0   1  2  3  4  5   6  7  8   9  10  11  12  13  14  15  y\n",
            "0    7   9  6  4  5  9   7  3  5   9   4   7   7   5   7   8  0\n",
            "1    4  11  6  8  8  7   7  6  5   7   6   6   3   8   6  10  0\n",
            "2    2   4  4  3  2  6  10  3  4  12   5   3   1  10   2   8  1\n",
            "3    4   5  5  4  4  7   7  5  6   7   6   6   2   8   6  10  0\n",
            "4    2   3  2  2  2  7   8  5  5   7   5   6   2   8   5   9  0\n",
            "..  ..  .. .. .. .. ..  .. .. ..  ..  ..  ..  ..  ..  ..  .. ..\n",
            "936  4   9  4  6  4  3  14  6  1  12   7   3   0   9   3   8  1\n",
            "937  3   2  4  4  3  7   7  5  5   6   6   5   2   8   6  10  0\n",
            "938  2   7  3  5  2  6   6  9  7   6   7   7   2   8   8  10  0\n",
            "939  6  11  9  8  5  6  12  5  4  12   5   2   1  10   3   9  1\n",
            "940  3   3  3  5  3  6   6  9  6   6   6   7   2   8   9  10  0\n",
            "\n",
            "[941 rows x 17 columns]\n",
            "      0   1  2  3  4   5   6   7  8   9  10  11  12  13  14  15  y\n",
            "1255  2   4  4  3  3   8   7   3  6  10   5   6   2   8   4  10  0\n",
            "1256  6   8  8  6  5   5  14   6  2  12   6   2   1  10   3   7  1\n",
            "1257  5  11  6  8  5   6   8   9  8   7   5   7   2   8   9  10  0\n",
            "1258  4   9  4  7  3   6   8   9  7   7   6   7   2   8   9  10  0\n",
            "1259  8  15  6  8  5   8   6   5  6  10   5   9   6   7   8  10  0\n",
            "...  ..  .. .. .. ..  ..  ..  .. ..  ..  ..  ..  ..  ..  ..  .. ..\n",
            "1564  3   5  4  3  2   6   9   5  4   9   7   3   1  10   4   6  1\n",
            "1565  3   9  4  6  2   5  10  10  3   9   6   4   2  10   4   8  1\n",
            "1566  5  10  7  7  4   7  11   4  5  13   5   3   1  10   3   8  1\n",
            "1567  6   9  8  6  7  10   6   3  6  10   3   7   4   7   5  12  0\n",
            "1568  8  13  7  8  7   9   7   4  5   9   5   7   7   6   9   8  0\n",
            "\n",
            "[314 rows x 17 columns]\n"
          ],
          "name": "stdout"
        }
      ]
    },
    {
      "cell_type": "markdown",
      "metadata": {
        "id": "7XuZJXgbJQtF",
        "colab_type": "text"
      },
      "source": [
        "First, let's try linear kernel"
      ]
    },
    {
      "cell_type": "code",
      "metadata": {
        "id": "p_k9GNAlWODb",
        "colab_type": "code",
        "outputId": "10a05011-874d-4d65-9714-2bc942bdeaac",
        "colab": {
          "base_uri": "https://localhost:8080/",
          "height": 196
        }
      },
      "source": [
        "#learning with sckitlearn svm classifier with linear kernel\n",
        "from sklearn import svm\n",
        "\n",
        "def predictAndTest(classifier,testData):\n",
        "  predictions=classifier.predict(testData.iloc[:,:numFeatures].values.tolist()) #predict the validation set classes\n",
        "  success=0\n",
        "  for i in range(0,len(predictions)):\n",
        "    if(predictions[i]==testData.y.iloc[i]):\n",
        "      success+=1\n",
        "  return success/len(testData)\n",
        "\n",
        "def validationScoreLinear(C_, trainCount):#with given C, make trainCount experiments and report the result\n",
        "  clf = svm.SVC(kernel='linear', C = C_)\n",
        "  cummSuccess=0\n",
        "  for k in range(trainCount):\n",
        "    trainset,validset = shuffle(trainValid,0.75) #get a random train set\n",
        "    clf.fit(trainset.iloc[:,:numFeatures].values.tolist(), trainset.y) #train the test set\n",
        "    cummSuccess+=predictAndTest(clf,validset)\n",
        "  return cummSuccess/trainCount\n",
        "\n",
        "C=0.00001\n",
        "maxScore=0\n",
        "maxc=C\n",
        "for i in range(0,9):\n",
        "  score=validationScoreLinear(C, 100)\n",
        "  if(score>maxScore):\n",
        "    maxScore=score\n",
        "    maxc=C\n",
        "  print(C, ' : ', score)\n",
        "  C = C*10\n",
        "\n",
        "\n",
        "print('max is: ', maxc, ' with ', maxScore)  "
      ],
      "execution_count": 0,
      "outputs": [
        {
          "output_type": "stream",
          "text": [
            "1e-05  :  0.5075847457627118\n",
            "0.0001  :  0.946228813559322\n",
            "0.001  :  0.96406779661017\n",
            "0.01  :  0.9761440677966102\n",
            "0.1  :  0.9879237288135595\n",
            "1.0  :  0.9933898305084745\n",
            "10.0  :  0.9938559322033893\n",
            "100.0  :  0.9978813559322033\n",
            "1000.0  :  1.0\n",
            "max is:  1000.0  with  1.0\n"
          ],
          "name": "stdout"
        }
      ]
    },
    {
      "cell_type": "markdown",
      "metadata": {
        "id": "2FqQlPbH01hQ",
        "colab_type": "text"
      },
      "source": [
        "The above code prints out the best C value as 100(it may change in your run so I am doing it parametrically). Let's train the set again with C=100 and report the accuracy over test set"
      ]
    },
    {
      "cell_type": "code",
      "metadata": {
        "id": "5CVBKvPu0_k2",
        "colab_type": "code",
        "outputId": "6912a4a0-29ab-4b77-982c-e8b5fc0bf965",
        "colab": {
          "base_uri": "https://localhost:8080/",
          "height": 35
        }
      },
      "source": [
        "clf = svm.SVC(kernel='linear', C = maxc)\n",
        "clf.fit(trainValid.iloc[:,:numFeatures].values.tolist(), trainValid.y) #train the test set\n",
        "score=predictAndTest(clf,testset)\n",
        "\n",
        "print('Accuracy: ', score)\n"
      ],
      "execution_count": 0,
      "outputs": [
        {
          "output_type": "stream",
          "text": [
            "Accuracy:  0.9872611464968153\n"
          ],
          "name": "stdout"
        }
      ]
    },
    {
      "cell_type": "markdown",
      "metadata": {
        "id": "u7VG6j6u1jM7",
        "colab_type": "text"
      },
      "source": [
        "The accuracy is around 0.987 !!!\n",
        "It may differ depending on the split"
      ]
    },
    {
      "cell_type": "markdown",
      "metadata": {
        "id": "d9QoLemXJL_4",
        "colab_type": "text"
      },
      "source": [
        "Next, let's try radial basis function kernel (RBF), this time I will use gridsearch class of skilearn for tuning parameters C and $\\gamma$"
      ]
    },
    {
      "cell_type": "code",
      "metadata": {
        "id": "d0EvbEYeKWPN",
        "colab_type": "code",
        "outputId": "ae9731bb-3d09-4336-b3cc-a102c5815f2f",
        "colab": {
          "base_uri": "https://localhost:8080/",
          "height": 35
        }
      },
      "source": [
        "from sklearn.model_selection import GridSearchCV\n",
        "from sklearn import svm\n",
        "\n",
        "trainset=trainValid\n",
        "\n",
        "grid_values = {'gamma': [2**(-9),2**(-8),2**(-7),2**(-6),2**(-5),2**(-4),2**(-3),2**(-2),2**(-1),2],'C':[0.0001,0.001, 0.01,0.1,1,10,100,1000]}\n",
        "clf = svm.SVC(kernel='rbf')\n",
        "grid = GridSearchCV(clf, param_grid = grid_values, scoring = 'accuracy', cv=10, return_train_score=False)\n",
        "grid.fit(trainset.iloc[:,:numFeatures].values.tolist(), trainset.y) #train the test set\n",
        "#print(grid.cv_results_) #comment out to see cross validation results\n",
        "print('best parameters: ', grid.best_params_, ' with score ', grid.best_score_)\n",
        "\n",
        "\n",
        "\n"
      ],
      "execution_count": 0,
      "outputs": [
        {
          "output_type": "stream",
          "text": [
            "best parameters:  {'C': 100, 'gamma': 0.015625}  with score  0.997874601487779\n"
          ],
          "name": "stdout"
        }
      ]
    },
    {
      "cell_type": "markdown",
      "metadata": {
        "id": "0IsvrA3wVBm2",
        "colab_type": "text"
      },
      "source": [
        "the best parameters found are C=100 and $\\gamma$=0.015625\n",
        "\n",
        "again, it may differ depending on the split\n",
        "\n",
        "\n",
        "---\n",
        "\n"
      ]
    },
    {
      "cell_type": "code",
      "metadata": {
        "id": "kbDo2YwlYqsw",
        "colab_type": "code",
        "outputId": "00d3e7e5-4d58-4bcd-8833-d2a7e1acda69",
        "colab": {
          "base_uri": "https://localhost:8080/",
          "height": 35
        }
      },
      "source": [
        "#let's train the data with best parameters and report the test result on test split\n",
        "clf = svm.SVC(kernel='rbf', gamma=grid.best_params_['gamma'], C=grid.best_params_['C'])\n",
        "clf.fit(trainset.iloc[:,:numFeatures].values.tolist(), trainset.y) #train the test set\n",
        "score=predictAndTest(clf,testset)\n",
        "\n",
        "print('Accuracy: ', score)\n",
        "#we could also use the library function, they will report the same number\n",
        "#print(grid.score(testset.iloc[:,:numFeatures].values.tolist(), testset.y))\n",
        "\n"
      ],
      "execution_count": 0,
      "outputs": [
        {
          "output_type": "stream",
          "text": [
            "Accuracy:  0.9904458598726115\n"
          ],
          "name": "stdout"
        }
      ]
    },
    {
      "cell_type": "markdown",
      "metadata": {
        "id": "ykU_NvORaOGO",
        "colab_type": "text"
      },
      "source": [
        "Accuracy is over 0.99 !!"
      ]
    }
  ]
}